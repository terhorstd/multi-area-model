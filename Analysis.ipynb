{
 "cells": [
  {
   "cell_type": "code",
   "execution_count": 1,
   "id": "dbe0dd06",
   "metadata": {},
   "outputs": [],
   "source": [
    "import matplotlib.pyplot as plt\n",
    "import numpy as np"
   ]
  },
  {
   "cell_type": "code",
   "execution_count": null,
   "id": "69467689",
   "metadata": {},
   "outputs": [],
   "source": []
  },
  {
   "cell_type": "code",
   "execution_count": 2,
   "id": "bc3179f6",
   "metadata": {},
   "outputs": [
    {
     "data": {
      "text/plain": [
       "array([[5.0000e+01, 1.0000e-01],\n",
       "       [8.2000e+01, 1.0000e-01],\n",
       "       [3.3700e+02, 1.0000e-01],\n",
       "       ...,\n",
       "       [1.8629e+04, 2.0000e+03],\n",
       "       [2.0259e+04, 2.0000e+03],\n",
       "       [2.0265e+04, 2.0000e+03]])"
      ]
     },
     "execution_count": 2,
     "metadata": {},
     "output_type": "execute_result"
    }
   ],
   "source": [
    "label = \"3262d976c50ea3bf4743174127fdd9a8\"\n",
    "data = np.loadtxt(label + \"-spikes-1-0.dat\", skiprows=3)\n",
    "data"
   ]
  },
  {
   "cell_type": "code",
   "execution_count": 3,
   "id": "0b9fd328",
   "metadata": {},
   "outputs": [],
   "source": [
    "tsteps, spikecount = np.unique(data[:,1], return_counts=True)"
   ]
  },
  {
   "cell_type": "code",
   "execution_count": 4,
   "id": "8bf136c1",
   "metadata": {},
   "outputs": [
    {
     "name": "stdout",
     "output_type": "stream",
     "text": [
      "Using matplotlib backend: agg\n"
     ]
    }
   ],
   "source": [
    "%matplotlib"
   ]
  },
  {
   "cell_type": "code",
   "execution_count": 5,
   "id": "30c4befb",
   "metadata": {},
   "outputs": [
    {
     "data": {
      "text/plain": [
       "[<matplotlib.lines.Line2D at 0x7f43d237b910>]"
      ]
     },
     "execution_count": 5,
     "metadata": {},
     "output_type": "execute_result"
    }
   ],
   "source": [
    "fig, ax = plt.subplots()\n",
    "ax.plot(tsteps, spikecount)"
   ]
  },
  {
   "cell_type": "code",
   "execution_count": 10,
   "id": "5515716f",
   "metadata": {},
   "outputs": [],
   "source": [
    "plt.savefig(\"spikerate.png\")"
   ]
  },
  {
   "cell_type": "code",
   "execution_count": null,
   "id": "b4a27003",
   "metadata": {},
   "outputs": [],
   "source": []
  }
 ],
 "metadata": {
  "kernelspec": {
   "display_name": "EBRAINS_release_20210930",
   "language": "python",
   "name": "spack_python_kernel_release_20210930"
  },
  "language_info": {
   "codemirror_mode": {
    "name": "ipython",
    "version": 3
   },
   "file_extension": ".py",
   "mimetype": "text/x-python",
   "name": "python",
   "nbconvert_exporter": "python",
   "pygments_lexer": "ipython3",
   "version": "3.8.11"
  }
 },
 "nbformat": 4,
 "nbformat_minor": 5
}
