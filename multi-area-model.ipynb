{
 "cells": [
  {
   "cell_type": "code",
   "execution_count": 1,
   "id": "bac6e571",
   "metadata": {},
   "outputs": [
    {
     "name": "stdout",
     "output_type": "stream",
     "text": [
      "Defaulting to user installation because normal site-packages is not writeable\n",
      "Requirement already satisfied: nested_dict in /opt/app-root/src/.local/lib/python3.8/site-packages (1.61)\n",
      "Requirement already satisfied: dicthash in /opt/app-root/src/.local/lib/python3.8/site-packages (0.0.2)\n",
      "Requirement already satisfied: future in /opt/app-root/src/.local/lib/python3.8/site-packages (from dicthash) (0.18.2)\n"
     ]
    }
   ],
   "source": [
    "!pip install nested_dict dicthash"
   ]
  },
  {
   "cell_type": "code",
   "execution_count": 2,
   "id": "29d3fa3e",
   "metadata": {},
   "outputs": [],
   "source": [
    "import numpy as np\n",
    "import os\n",
    "\n",
    "from multiarea_model import MultiAreaModel"
   ]
  },
  {
   "cell_type": "markdown",
   "id": "7fcc1181",
   "metadata": {},
   "source": [
    "# Down-scaled model\n",
    "\n",
    "Neurons and indegrees are both scaled down to 1%.\n",
    "Can usually be simulated on a local machine."
   ]
  },
  {
   "cell_type": "code",
   "execution_count": 3,
   "id": "c718ea19",
   "metadata": {},
   "outputs": [],
   "source": [
    "scale_down_to = 0.005"
   ]
  },
  {
   "cell_type": "markdown",
   "id": "f6f99c04",
   "metadata": {},
   "source": [
    "**Warning: This will not yield reasonable dynamical results from the\n",
    "network and is only meant to demonstrate the simulation workflow.**"
   ]
  },
  {
   "cell_type": "code",
   "execution_count": 4,
   "id": "8c9abe5d",
   "metadata": {},
   "outputs": [],
   "source": [
    "d = {}\n",
    "conn_params = {'replace_non_simulated_areas': 'het_poisson_stat',\n",
    "               'g': -11.,\n",
    "               \n",
    "               'K_stable': 'K_stable.npy',\n",
    "               'fac_nu_ext_TH': 1.2,\n",
    "               'fac_nu_ext_5E': 1.125,\n",
    "               'fac_nu_ext_6E': 1.41666667,\n",
    "               'av_indegree_V1': 3950.}\n",
    "input_params = {'rate_ext': 10.}\n",
    "neuron_params = {'V0_mean': -150.,\n",
    "                 'V0_sd': 50.}\n",
    "network_params = {'N_scaling': scale_down_to,\n",
    "                  'K_scaling': scale_down_to,\n",
    "                  'fullscale_rates': 'tests/fullscale_rates.json',\n",
    "                  'input_params': input_params,\n",
    "                  'connection_params': conn_params,\n",
    "                  'neuron_params': neuron_params}\n",
    "\n",
    "sim_params = {'t_sim': 2000.,\n",
    "              'num_processes': 1,\n",
    "              'local_num_threads': 1,\n",
    "              'recording_dict': {'record_vm': False}}\n",
    "\n",
    "theory_params = {'dt': 0.1}"
   ]
  },
  {
   "cell_type": "code",
   "execution_count": 5,
   "id": "9f1c2019",
   "metadata": {},
   "outputs": [
    {
     "name": "stdout",
     "output_type": "stream",
     "text": [
      "Initializing network from dictionary.\n",
      "RAND_DATA_LABEL 1349\n",
      "Model data base path: /opt/app-root/src/multi-area-model/multiarea_model/data_multiarea\n"
     ]
    },
    {
     "name": "stderr",
     "output_type": "stream",
     "text": [
      "/srv/test-build/spack/opt/spack/linux-centos7-broadwell/gcc-10.3.0/py-numpy-1.21.0-v2re3aybktzrk5wo5kutbfg4bea6oag3/lib/python3.8/site-packages/numpy/core/fromnumeric.py:3440: RuntimeWarning:Mean of empty slice.\n",
      "/srv/test-build/spack/opt/spack/linux-centos7-broadwell/gcc-10.3.0/py-numpy-1.21.0-v2re3aybktzrk5wo5kutbfg4bea6oag3/lib/python3.8/site-packages/numpy/core/_methods.py:189: RuntimeWarning:invalid value encountered in double_scalars\n"
     ]
    },
    {
     "name": "stdout",
     "output_type": "stream",
     "text": [
      "No R installation, taking hard-coded SLN fit parameters.\n",
      "\n",
      "\n",
      "========================================\n",
      "Customized parameters\n",
      "--------------------\n",
      "{'K_scaling': 0.005,\n",
      " 'N_scaling': 0.005,\n",
      " 'connection_params': {'K_stable': 'K_stable.npy',\n",
      "                       'av_indegree_V1': 3950.0,\n",
      "                       'fac_nu_ext_5E': 1.125,\n",
      "                       'fac_nu_ext_6E': 1.41666667,\n",
      "                       'fac_nu_ext_TH': 1.2,\n",
      "                       'g': -11.0,\n",
      "                       'replace_non_simulated_areas': 'het_poisson_stat'},\n",
      " 'fullscale_rates': 'tests/fullscale_rates.json',\n",
      " 'input_params': {'rate_ext': 10.0},\n",
      " 'neuron_params': {'V0_mean': -150.0, 'V0_sd': 50.0}}\n",
      "========================================\n"
     ]
    },
    {
     "name": "stderr",
     "output_type": "stream",
     "text": [
      "/opt/app-root/src/.local/lib/python3.8/site-packages/dicthash/dicthash.py:47: UserWarning:Float too small for safe conversion tointeger. Rounding down to zero.\n"
     ]
    },
    {
     "name": "stdout",
     "output_type": "stream",
     "text": [
      "Simulation label: 3262d976c50ea3bf4743174127fdd9a8\n",
      "Copied files.\n",
      "Initialized simulation class.\n",
      "Iteration: 0\n",
      "Mean-field theory predicts an average rate of 29.588 spikes/s across all populations.\n"
     ]
    }
   ],
   "source": [
    "M = MultiAreaModel(network_params, simulation=True,\n",
    "                   sim_spec=sim_params,\n",
    "                   theory=True,\n",
    "                   theory_spec=theory_params)\n",
    "p, r = M.theory.integrate_siegert()\n",
    "print(\"Mean-field theory predicts an average \"\n",
    "      \"rate of {0:.3f} spikes/s across all populations.\".format(np.mean(r[:, -1])))"
   ]
  },
  {
   "cell_type": "code",
   "execution_count": null,
   "id": "e241dea0",
   "metadata": {},
   "outputs": [
    {
     "name": "stdout",
     "output_type": "stream",
     "text": [
      "Prepared simulation in 0.00 seconds.\n",
      "Rank 0: created area V1 with 5587 local nodes\n",
      "Memory after V1 : 1401.15 MB\n",
      "Rank 0: created area V2 with 12359 local nodes\n",
      "Memory after V2 : 1428.81 MB\n",
      "Rank 0: created area VP with 19107 local nodes\n",
      "Memory after VP : 1459.11 MB\n",
      "Rank 0: created area V3 with 26024 local nodes\n",
      "Memory after V3 : 1488.66 MB\n",
      "Rank 0: created area V3A with 30934 local nodes\n",
      "Memory after V3A : 1509.58 MB\n",
      "Rank 0: created area MT with 36731 local nodes\n",
      "Memory after MT : 1536.38 MB\n",
      "Rank 0: created area V4t with 42326 local nodes\n",
      "Memory after V4t : 1561.34 MB\n",
      "Rank 0: created area V4 with 48809 local nodes\n",
      "Memory after V4 : 1590.08 MB\n",
      "Rank 0: created area VOT with 54420 local nodes\n",
      "Memory after VOT : 1616.06 MB\n",
      "Rank 0: created area MSTd with 59652 local nodes\n",
      "Memory after MSTd : 1642.70 MB\n",
      "Rank 0: created area PIP with 64596 local nodes\n",
      "Memory after PIP : 1667.27 MB\n",
      "Rank 0: created area PO with 69540 local nodes\n",
      "Memory after PO : 1691.75 MB\n",
      "Rank 0: created area DP with 74306 local nodes\n",
      "Memory after DP : 1715.18 MB\n",
      "Rank 0: created area MIP with 78788 local nodes\n",
      "Memory after MIP : 1738.88 MB\n",
      "Rank 0: created area MDP with 84084 local nodes\n",
      "Memory after MDP : 1763.31 MB\n",
      "Rank 0: created area VIP with 89562 local nodes\n",
      "Memory after VIP : 1787.62 MB\n",
      "Rank 0: created area LIP with 94428 local nodes\n",
      "Memory after LIP : 1812.97 MB\n",
      "Rank 0: created area PITv with 100292 local nodes\n",
      "Memory after PITv : 1840.07 MB\n",
      "Rank 0: created area PITd with 106164 local nodes\n",
      "Memory after PITd : 1868.93 MB\n",
      "Rank 0: created area MSTl with 111396 local nodes\n",
      "Memory after MSTl : 1896.56 MB\n",
      "Rank 0: created area CITv with 115931 local nodes\n",
      "Memory after CITv : 1920.68 MB\n",
      "Rank 0: created area CITd with 120331 local nodes\n",
      "Memory after CITd : 1942.41 MB\n",
      "Rank 0: created area FEF with 125182 local nodes\n",
      "Memory after FEF : 1964.41 MB\n",
      "Rank 0: created area TF with 129117 local nodes\n",
      "Memory after TF : 1987.88 MB\n",
      "Rank 0: created area AITv with 133873 local nodes\n",
      "Memory after AITv : 2006.77 MB\n",
      "Rank 0: created area FST with 138068 local nodes\n",
      "Memory after FST : 2030.80 MB\n",
      "Rank 0: created area 7a with 142669 local nodes\n",
      "Memory after 7a : 2050.91 MB\n",
      "Rank 0: created area STPp with 147072 local nodes\n",
      "Memory after STPp : 2074.14 MB\n",
      "Rank 0: created area STPa with 151352 local nodes\n",
      "Memory after STPa : 2096.18 MB\n",
      "Rank 0: created area 46 with 155019 local nodes\n",
      "Memory after 46 : 2116.31 MB\n",
      "Rank 0: created area AITd with 159809 local nodes\n",
      "Memory after AITd : 2134.84 MB\n",
      "Rank 0: created area TH with 122538 local nodes\n",
      "Memory after TH : 2159.46 MB\n",
      "Created areas and internal connections in 56.70 seconds.\n"
     ]
    }
   ],
   "source": [
    "M.simulation.simulate()"
   ]
  }
 ],
 "metadata": {
  "kernelspec": {
   "display_name": "EBRAINS_release_20210930",
   "language": "python",
   "name": "spack_python_kernel_release_20210930"
  },
  "language_info": {
   "codemirror_mode": {
    "name": "ipython",
    "version": 3
   },
   "file_extension": ".py",
   "mimetype": "text/x-python",
   "name": "python",
   "nbconvert_exporter": "python",
   "pygments_lexer": "ipython3",
   "version": "3.8.11"
  }
 },
 "nbformat": 4,
 "nbformat_minor": 5
}
